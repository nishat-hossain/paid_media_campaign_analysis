{
 "cells": [
  {
   "cell_type": "markdown",
   "id": "e71a8f5b",
   "metadata": {},
   "source": [
    "<h2>Paid Search Campaign Performance<h2>"
   ]
  },
  {
   "cell_type": "markdown",
   "id": "725c907b",
   "metadata": {},
   "source": [
    "In this project we'll analyze a data set from a 5 month paid search campaign that ran from July-November 2021 for a campaign report. Data is from Kaggle and can be downloaded [here](https://www.kaggle.com/datasets/marceaxl82/shopping-mall-paid-search-campaign-dataset). <br>\n",
    "\n",
    "As the dataset doesn't contain keyword, in order to keep the company anonymous we'll focus on conversion & cost efficiency in this analysis."
   ]
  },
  {
   "cell_type": "markdown",
   "id": "0bc809fa",
   "metadata": {},
   "source": [
    "<h3>Preparing the Data<h3>"
   ]
  },
  {
   "cell_type": "code",
   "execution_count": 238,
   "id": "b3c7c502",
   "metadata": {},
   "outputs": [
    {
     "name": "stdout",
     "output_type": "stream",
     "text": [
      "(190, 7)\n",
      "Index(['Ad Group', 'Month', 'Impressions', 'Clicks', 'Conversions', 'Cost',\n",
      "       'Sale Amount'],\n",
      "      dtype='object')\n",
      "Ad Group        object\n",
      "Month           object\n",
      "Impressions      int64\n",
      "Clicks           int64\n",
      "Conversions      int64\n",
      "Cost             int64\n",
      "Sale Amount    float64\n",
      "dtype: object\n"
     ]
    }
   ],
   "source": [
    "import pandas as pd\n",
    "import numpy as np\n",
    "\n",
    "media = pd.read_csv(\"search_data.csv\")\n",
    "\n",
    "print(media.shape)\n",
    "print(media.columns)\n",
    "print(media.dtypes)"
   ]
  },
  {
   "cell_type": "markdown",
   "id": "9fd4cddd",
   "metadata": {},
   "source": [
    "Next let's clean up the month column into a new date column that includes the month and year:"
   ]
  },
  {
   "cell_type": "code",
   "execution_count": 321,
   "id": "0b8cb579",
   "metadata": {},
   "outputs": [
    {
     "name": "stdout",
     "output_type": "stream",
     "text": [
      "['07/2021' '08/2021' '09/2021' '10/2021' '11/2021']\n"
     ]
    }
   ],
   "source": [
    "import datetime as dt\n",
    "\n",
    "def convert_month_name(month_string):\n",
    "    table = {\"July\": dt.datetime(month=7, day=1, year=2021),\n",
    "             \"August\": dt.datetime(month=8, day=1, year=2021),\n",
    "             \"September\": dt.datetime(month=9, day=1, year=2021),\n",
    "             \"October\": dt.datetime(month=10, day=1, year=2021),\n",
    "             \"November\": dt.datetime(month=11, day=1, year=2021)}\n",
    "    date_object = table.get(month_string)\n",
    "    month_year = date_object.strftime('%m/%Y')\n",
    "    return month_year\n",
    "\n",
    "media[\"Date\"] = media[\"Month\"].apply(convert_month_name)\n",
    "\n",
    "print(media[\"Date\"].unique())"
   ]
  },
  {
   "cell_type": "markdown",
   "id": "9d38782f",
   "metadata": {},
   "source": [
    "<h3>Campaign Results Roll-Up Slide<h3>"
   ]
  },
  {
   "cell_type": "markdown",
   "id": "8a316ff4",
   "metadata": {},
   "source": [
    "Next we'll calculate all the data for a roll-up summary slide of the report:"
   ]
  },
  {
   "cell_type": "code",
   "execution_count": 527,
   "id": "1ac3627c",
   "metadata": {},
   "outputs": [
    {
     "name": "stdout",
     "output_type": "stream",
     "text": [
      "Number of Ad Groups: 40\n",
      "Impressions                 2,674,699.00\n",
      "Clicks                        924,503.00\n",
      "Conversions                    95,996.00\n",
      "Cost                          635,372.00\n",
      "Sale Amount                12,049,074.31\n",
      "Avg. CTR %                         34.60\n",
      "Avg. CPC                            0.69\n",
      "Avg. CR %                          10.40\n",
      "Avg. Cost per Conversion            6.62\n",
      "Avg. ROAS                          18.00\n",
      "dtype: float64\n"
     ]
    }
   ],
   "source": [
    "Ad_Groups = media[\"Ad Group\"].unique()\n",
    "Ad_Group_Count = len(Ad_Groups)\n",
    "print(\"Number of Ad Groups:\", Ad_Group_Count)\n",
    "\n",
    "pd.options.display.float_format = '{:,.2f}'.format\n",
    "rolled = media.sum(numeric_only=True)\n",
    "rolled[\"Avg. CTR %\"] = round(100*rolled[\"Clicks\"]/rolled[\"Impressions\"],1)\n",
    "rolled[\"Avg. CPC\"] = round(rolled[\"Cost\"]/rolled[\"Clicks\"],2)\n",
    "rolled[\"Avg. CR %\"] = round(100*rolled[\"Conversions\"]/rolled[\"Clicks\"],1)\n",
    "rolled[\"Avg. Cost per Conversion\"] = round(rolled[\"Cost\"]/rolled[\"Conversions\"],2)\n",
    "rolled[\"Avg. ROAS\"] = round((rolled[\"Sale Amount\"]-rolled[\"Cost\"])/rolled[\"Cost\"])\n",
    "print(rolled)"
   ]
  },
  {
   "cell_type": "markdown",
   "id": "4beb18fb",
   "metadata": {},
   "source": [
    "<h3>Campaign Results By Month Roll-up<h3>"
   ]
  },
  {
   "cell_type": "markdown",
   "id": "99bfb10a",
   "metadata": {},
   "source": [
    "Now let's look at the campaign level performance by creating a time series that shows how conversion volume, conversion rate, & ROAS fluctuated month-over-month for the duration of the campaign:"
   ]
  },
  {
   "cell_type": "code",
   "execution_count": 449,
   "id": "616e2524",
   "metadata": {},
   "outputs": [
    {
     "name": "stdout",
     "output_type": "stream",
     "text": [
      "    Date       Conversions    ROAS    CPC Conv.    CPC Clicks    Sale Amount\n",
      "--  -------  -------------  ------  -----------  ------------  -------------\n",
      " 0  07/2021          17762   16.83         6.79          0.63   2,148,710.32\n",
      " 1  08/2021          12230   18.06         6.89          0.71   1,605,066.00\n",
      " 2  09/2021           9425   17.44         7.60          0.62   1,319,949.14\n",
      " 3  10/2021          13312   20.42         5.88          0.67   1,676,593.50\n",
      " 4  11/2021          43267   17.87         6.49          0.74   5,298,755.35\n"
     ]
    }
   ],
   "source": [
    "pd.options.display.float_format = '{:,.2f}'.format\n",
    "agg_func = {\"Impressions\":\"sum\",\n",
    "            \"Clicks\":\"sum\",\n",
    "            \"Conversions\":\"sum\",\n",
    "            \"Cost\":\"sum\",\n",
    "           \"Sale Amount\":\"sum\"}\n",
    "\n",
    "monthly = media.groupby(\"Date\",as_index=False,group_keys=True).agg(agg_func).reset_index()\n",
    "\n",
    "monthly[\"CTR\"] = 100*monthly[\"Clicks\"]/monthly[\"Impressions\"]\n",
    "monthly[\"CPC Clicks\"] = monthly[\"Cost\"]/monthly[\"Clicks\"]\n",
    "monthly[\"CR\"] = 100*monthly[\"Conversions\"]/monthly[\"Clicks\"]\n",
    "monthly[\"CPC Conv.\"] = monthly[\"Cost\"]/monthly[\"Conversions\"]\n",
    "monthly[\"ROAS\"] = (monthly[\"Sale Amount\"]-monthly[\"Cost\"])/monthly[\"Cost\"]\n",
    "\n",
    "from tabulate import tabulate as t\n",
    "print(t(monthly[[\"Date\",\"Conversions\",\"ROAS\",\"CPC Conv.\",\"CPC Clicks\",\"Sale Amount\"]],headers=\"keys\",floatfmt=\",.2f\"))"
   ]
  },
  {
   "cell_type": "markdown",
   "id": "943c861f",
   "metadata": {},
   "source": [
    "While November generated the most conversion & sale volumes, October generated the highest ROAS. "
   ]
  },
  {
   "cell_type": "markdown",
   "id": "bb8be778",
   "metadata": {},
   "source": [
    "<h3>Graphing Ad Spend vs. ROAS<h3>"
   ]
  },
  {
   "cell_type": "markdown",
   "id": "20fcfdad",
   "metadata": {},
   "source": [
    "Let's graph Cost against ROAS to see month-over-month trends between the two."
   ]
  },
  {
   "cell_type": "code",
   "execution_count": 478,
   "id": "5f59d737",
   "metadata": {},
   "outputs": [
    {
     "data": {
      "image/png": "[encoded data removed]",
      "text/plain": [
       "<Figure size 640x480 with 2 Axes>"
      ]
     },
     "metadata": {},
     "output_type": "display_data"
    }
   ],
   "source": [
    "import matplotlib.pyplot as plt\n",
    "import matplotlib.style as style\n",
    "from matplotlib.ticker import FuncFormatter\n",
    "\n",
    "style.use('ggplot')\n",
    "\n",
    "fig, ax1 = plt.subplots()\n",
    "\n",
    "color = 'tab:red'\n",
    "#ax1.set_xlabel('Month',labelpad=25)\n",
    "ax1.set_ylabel('Ad Spend',color=color,rotation=0,labelpad=40)\n",
    "ax1.plot(monthly[\"Date\"], monthly[\"Cost\"],color=color)\n",
    "ax1.tick_params(axis='y')\n",
    "ax1.grid(visible=False)\n",
    "ax1.set_ylim(10000,300000)\n",
    "ax1.set_yticks([250000,200000,150000,100000,50000])\n",
    "\n",
    "def thousands(x, pos):\n",
    "    return \"$\"'%1.fK' % (x * 1e-3)\n",
    "formatter = FuncFormatter(thousands)\n",
    "ax1.yaxis.set_major_formatter(formatter)\n",
    "\n",
    "ax2 = ax1.twinx()\n",
    "\n",
    "color = 'tab:green'\n",
    "ax2.set_ylabel('ROAS',color=color,rotation=0,labelpad=40)\n",
    "ax2.plot(monthly[\"Date\"], monthly[\"ROAS\"],color=color)\n",
    "ax2.tick_params(axis='y')\n",
    "ax2.grid(visible=False)\n",
    "ax2.set_ylim(0,30)\n",
    "ax2.set_yticks([25,20,15,10,5])\n",
    "\n",
    "def xroas(x, pos):\n",
    "    return (str(x)+\"\"+\"X\")\n",
    "formatter = FuncFormatter(xroas)\n",
    "ax2.yaxis.set_major_formatter(formatter)\n",
    "\n",
    "fig.tight_layout()\n",
    "plt.show()"
   ]
  },
  {
   "cell_type": "markdown",
   "id": "de7d7b39",
   "metadata": {},
   "source": [
    "The peak in ROAS for October corresponds to the monthly performance roll-up table we generated earlier.\n",
    "\n",
    "Overall we see higher costs during competitive months. November has the highest cost owing to Black Friday/Cyber Monday, while July has the second highest cost owing to the 4th of July holidays. For Cyber Monday, though ROAS begins to decrease after a certain volume of Ad Spend, note that's it is still quite high at around 17.9X."
   ]
  },
  {
   "cell_type": "markdown",
   "id": "05e9e232",
   "metadata": {},
   "source": [
    "<h3>Desktop Vs. Mobile<h3>"
   ]
  },
  {
   "cell_type": "markdown",
   "id": "2c1773d5",
   "metadata": {},
   "source": [
    "Let's see performance for desktop vs. mobile"
   ]
  },
  {
   "cell_type": "code",
   "execution_count": 521,
   "id": "4e0c6354",
   "metadata": {},
   "outputs": [
    {
     "name": "stdout",
     "output_type": "stream",
     "text": [
      "    Device      ROAS     CR    CPC Conv.    CTR    CPC Clicks    Conversions    Sale Amount    Cost\n",
      "--  --------  ------  -----  -----------  -----  ------------  -------------  -------------  ------\n",
      " 0  desktop    18.40  18.00         6.80  31.00          1.22          42190   5,575,436.43  286841\n",
      " 1  mobile     17.60   7.80         6.48  36.00          0.51          53806   6,473,637.88  348531\n"
     ]
    }
   ],
   "source": [
    "mob_bool = media[\"Ad Group\"].str.contains(\"Mob\")==True\n",
    "media[\"Device\"] = np.where(mob_bool,\"mobile\",\"desktop\")\n",
    "\n",
    "device = media.groupby([\"Device\"],as_index=False,group_keys=True).agg(agg_func)\n",
    "\n",
    "device[\"CTR\"] = round(100*device[\"Clicks\"]/device[\"Impressions\"],1)\n",
    "device[\"CPC Clicks\"] = round(device[\"Cost\"]/device[\"Clicks\"],2)\n",
    "device[\"CR\"] = round(100*device[\"Conversions\"]/device[\"Clicks\"],1)\n",
    "device[\"CPC Conv.\"] = round(device[\"Cost\"]/device[\"Conversions\"],2)\n",
    "device[\"ROAS\"] = round((device[\"Sale Amount\"]-device[\"Cost\"])/device[\"Cost\"],1)\n",
    "\n",
    "print(t(device[[\"Device\", \"ROAS\", \"CR\", \"CPC Conv.\",\"CTR\", \"CPC Clicks\", \"Conversions\",\"Sale Amount\",\"Cost\"]],headers=\"keys\",floatfmt=\",.2f\"))"
   ]
  },
  {
   "cell_type": "markdown",
   "id": "b57ad0d6",
   "metadata": {},
   "source": [
    "Desktop ads delivered a 2.3X higher conversion rate along with a slightly higher ROAS than mobile at similar Cost Per Conversion. <br>\n",
    "\n",
    "Mobile delivered higher Conversion and Sale volumes, but this is because more ad spend was put towards mobile campaigns. This is probably because mobile in general might have a higher CTR combined with a more cost-efficient CPC as we can see in the table above. \n",
    "\n",
    "Based on the results above, it might make sense to weight spend towards mobile & desktop devices more equally in future campaigns."
   ]
  },
  {
   "cell_type": "markdown",
   "id": "dac9770f",
   "metadata": {},
   "source": [
    "<h3>Top Ad Groups<h3>"
   ]
  },
  {
   "cell_type": "markdown",
   "id": "6cdbc111",
   "metadata": {},
   "source": [
    "Top 3 Ad Groups by ROAS:"
   ]
  },
  {
   "cell_type": "code",
   "execution_count": 524,
   "id": "99f7c6a0",
   "metadata": {},
   "outputs": [
    {
     "name": "stdout",
     "output_type": "stream",
     "text": [
      "    Ad Group                                           ROAS    CR    Conversions    Cost per Conversion    CPC\n",
      "--  -----------------------------------------------  ------  ----  -------------  ---------------------  -----\n",
      " 0  Shop - Exact - Desk - Black Friday/Cyber Monday   298.6  29.2              7                   0.43   0.12\n",
      " 1  Shop - Exact - Mob - Black Friday/Cyber Monday     73.3   9               24                   1.83   0.17\n",
      " 2  Shop - Phrase - Desk - Free Shipping               48.5   7.9              3                   5.67   0.45\n",
      " 3  Shop - Phrase - Mob - Competitor                   41.3  13               10                   4.1    0.53\n"
     ]
    }
   ],
   "source": [
    "total = media.groupby([\"Ad Group\"],as_index=False,group_keys=True).agg(agg_func).reset_index()\n",
    "total[\"CTR\"] = round(100*total[\"Clicks\"]/total[\"Impressions\"],1)\n",
    "total[\"CPC\"] = round(total[\"Cost\"]/total[\"Clicks\"],2)\n",
    "total[\"CR\"] = round(100*total[\"Conversions\"]/total[\"Clicks\"],1)\n",
    "total[\"Cost per Conversion\"] = round(total[\"Cost\"]/total[\"Conversions\"],2)\n",
    "total[\"ROAS\"] = round((total[\"Sale Amount\"]-total[\"Cost\"])/total[\"Cost\"],1)\n",
    "\n",
    "table = total[[\"Ad Group\",\"ROAS\",\"CR\",\"Conversions\",\"Cost per Conversion\",\"CPC\"]].sort_values(\"ROAS\",ascending=False).head(4).reset_index(drop=True)\n",
    "print(t(table,headers=\"keys\"))"
   ]
  },
  {
   "cell_type": "markdown",
   "id": "c5475a99",
   "metadata": {},
   "source": [
    "Top 3 Ad Groups by Cost per Conversion:"
   ]
  },
  {
   "cell_type": "code",
   "execution_count": 523,
   "id": "8817f995",
   "metadata": {},
   "outputs": [
    {
     "name": "stdout",
     "output_type": "stream",
     "text": [
      "    Ad Group                                           Cost per Conversion    Conversions    CR    CPC    ROAS\n",
      "--  -----------------------------------------------  ---------------------  -------------  ----  -----  ------\n",
      " 0  Shop - Exact - Desk - Black Friday/Cyber Monday                   0.43              7  29.2   0.12   298.6\n",
      " 1  Shop - Exact - Mob - Black Friday/Cyber Monday                    1.83             24   9     0.17    73.3\n",
      " 2  Shop - Exact - Desk - Free Shipping                               2.6             139  15.4   0.4     23.8\n",
      " 3  Shop - Exact - Mob - Free Shipping                                3.17            105   6.8   0.21     9.7\n"
     ]
    }
   ],
   "source": [
    "table = total[[\"Ad Group\",\"Cost per Conversion\",\"Conversions\",\"CR\",\"CPC\",\"ROAS\"]].sort_values(\"Cost per Conversion\",ascending=True).head(4).reset_index(drop=True)\n",
    "print(t(table,headers=\"keys\"))"
   ]
  },
  {
   "cell_type": "markdown",
   "id": "f222a570",
   "metadata": {},
   "source": [
    "Top performing Ad Groups in terms of ROAS and Cost per Conversion were the Black Friday/Cyber Monday campaigns, which is to be expected given that it's a key consumer event. Additionally, the Desktop version of the Cyber Monday campaign outperformed the mobile, which is consistent with the Desktop vs. Mobile analysis we did earlier.\n",
    "\n",
    "However, the Cyber Monday campaigns drove few conversions (31 in total), indicating that those few purchases must have had a very high average order value. This would also explain why despite having a high ROAS for Cyber Monday ad group the average peak ROAS doesn't occur in November, the month when the event occurs. It's because this is a competitive month with most highest Cost per Conversion. "
   ]
  },
  {
   "cell_type": "markdown",
   "id": "2881c9f9",
   "metadata": {},
   "source": [
    "<h3>Conclusion<h3>"
   ]
  },
  {
   "cell_type": "markdown",
   "id": "aa04cbf5",
   "metadata": {},
   "source": [
    "With an 18X Return on Ad Spend the campaign appears to have been a success, however this analysis doesn't take into account revenue after the marketing retainer & other associated costs, so further analysis is required to determine whether the campaign generated a true profit.\n",
    "\n",
    "Desktop appears to have performed slightly better than mobile with a 2.3X higher conversion rate and a very slight 4.5% higher ROAS. Mobile however was more cost-efficient with a 58% lower Cost per Click and slight 5% lower Cost per Conversion. Ad Spend for mobile was 20% higher: in future campaign weighting the spend more equally between desktop and mobile could be considered, but more research would need to be done first regarding attribution. That is, whether users who are seeing the ad on mobile are later ordering on desktop. "
   ]
  }
 ],
 "metadata": {
  "kernelspec": {
   "display_name": "Python 3 (ipykernel)",
   "language": "python",
   "name": "python3"
  },
  "language_info": {
   "codemirror_mode": {
    "name": "ipython",
    "version": 3
   },
   "file_extension": ".py",
   "mimetype": "text/x-python",
   "name": "python",
   "nbconvert_exporter": "python",
   "pygments_lexer": "ipython3",
   "version": "3.10.9"
  }
 },
 "nbformat": 4,
 "nbformat_minor": 5
}
